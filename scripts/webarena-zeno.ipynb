{
 "cells": [
  {
   "cell_type": "markdown",
   "metadata": {},
   "source": [
    "# Exploring WebArena Results with Zeno \n"
   ]
  },
  {
   "cell_type": "markdown",
   "metadata": {},
   "source": [
    "[Zeno](https://zenoml.com/) provides interative interface to explore the results of your agents in WebArena. You can easily\n",
    "* Visualize the trajectories\n",
    "* Compare the performance of different agents\n",
    "* Interactively select and analyze trajectories with various filters such as trajectory length "
   ]
  },
  {
   "cell_type": "code",
   "execution_count": 100,
   "metadata": {},
   "outputs": [
    {
     "name": "stdout",
     "output_type": "stream",
     "text": [
      "Requirement already satisfied: zeno_client in /usr/local/lib/python3.11/site-packages (0.1.12)\n",
      "Requirement already satisfied: arrow-json<0.10.0,>=0.9.0 in /usr/local/lib/python3.11/site-packages (from zeno_client) (0.9.0)\n",
      "Requirement already satisfied: pandas>=1.4.3 in /usr/local/lib/python3.11/site-packages (from zeno_client) (2.0.1)\n",
      "Requirement already satisfied: pyarrow>=6.0.0 in /usr/local/lib/python3.11/site-packages (from zeno_client) (11.0.0)\n",
      "Requirement already satisfied: pydantic>=1.0 in /usr/local/lib/python3.11/site-packages (from zeno_client) (1.10.13)\n",
      "Requirement already satisfied: requests>=2.20.0 in /usr/local/lib/python3.11/site-packages (from zeno_client) (2.28.2)\n",
      "Requirement already satisfied: python-dateutil>=2.8.2 in /usr/local/lib/python3.11/site-packages (from pandas>=1.4.3->zeno_client) (2.8.2)\n",
      "Requirement already satisfied: pytz>=2020.1 in /usr/local/lib/python3.11/site-packages (from pandas>=1.4.3->zeno_client) (2023.3)\n",
      "Requirement already satisfied: tzdata>=2022.1 in /usr/local/lib/python3.11/site-packages (from pandas>=1.4.3->zeno_client) (2023.3)\n",
      "Requirement already satisfied: numpy>=1.21.0 in /usr/local/lib/python3.11/site-packages (from pandas>=1.4.3->zeno_client) (1.26.1)\n",
      "Requirement already satisfied: typing-extensions>=4.2.0 in /usr/local/lib/python3.11/site-packages (from pydantic>=1.0->zeno_client) (4.8.0)\n",
      "Requirement already satisfied: charset-normalizer<4,>=2 in /usr/local/lib/python3.11/site-packages (from requests>=2.20.0->zeno_client) (3.1.0)\n",
      "Requirement already satisfied: idna<4,>=2.5 in /usr/local/lib/python3.11/site-packages (from requests>=2.20.0->zeno_client) (3.4)\n",
      "Requirement already satisfied: urllib3<1.27,>=1.21.1 in /usr/local/lib/python3.11/site-packages (from requests>=2.20.0->zeno_client) (1.26.15)\n",
      "Requirement already satisfied: certifi>=2017.4.17 in /usr/local/lib/python3.11/site-packages (from requests>=2.20.0->zeno_client) (2022.12.7)\n",
      "Requirement already satisfied: six>=1.5 in /usr/local/lib/python3.11/site-packages (from python-dateutil>=2.8.2->pandas>=1.4.3->zeno_client) (1.16.0)\n",
      "\n",
      "\u001b[1m[\u001b[0m\u001b[34;49mnotice\u001b[0m\u001b[1;39;49m]\u001b[0m\u001b[39;49m A new release of pip is available: \u001b[0m\u001b[31;49m23.2.1\u001b[0m\u001b[39;49m -> \u001b[0m\u001b[32;49m23.3.1\u001b[0m\n",
      "\u001b[1m[\u001b[0m\u001b[34;49mnotice\u001b[0m\u001b[1;39;49m]\u001b[0m\u001b[39;49m To update, run: \u001b[0m\u001b[32;49mpython3.11 -m pip install --upgrade pip\u001b[0m\n"
     ]
    }
   ],
   "source": [
    "!pip install zeno_client"
   ]
  },
  {
   "cell_type": "code",
   "execution_count": 101,
   "metadata": {},
   "outputs": [],
   "source": [
    "import pandas as pd\n",
    "import json\n",
    "import os\n",
    "from dotenv import load_dotenv\n",
    "\n",
    "import zeno_client"
   ]
  },
  {
   "cell_type": "markdown",
   "metadata": {},
   "source": [
    "We first need to convert and combine the output `HTML` trajectories into a single `JSON` file using the `html2json` script:\n",
    "Remember to change `result_folder` to the path you saved your `render_*.html`. The results will be saved to `{{result_folder}}/json_dump.json`. For example:"
   ]
  },
  {
   "cell_type": "code",
   "execution_count": 102,
   "metadata": {},
   "outputs": [
    {
     "name": "stdout",
     "output_type": "stream",
     "text": [
      "Total number of files: 809\n"
     ]
    }
   ],
   "source": [
    "# /Users/guozhitong/webarena/cache/91206_gpt35_16k_cot_na_deberta\n",
    "\n",
    "!python html2json.py --result_folder /Users/guozhitong/webarena/cache/91206_gpt35_16k_cot_na_deberta --config_json ../config_files/test.raw.json"
   ]
  },
  {
   "cell_type": "code",
   "execution_count": 103,
   "metadata": {},
   "outputs": [],
   "source": [
    "# !python html2json.py --result_folder ../cache/918_text_bison_001_cot --config_json ../config_files/test.raw.json\n",
    "# !python html2json.py --result_folder ../cache/919_gpt35_16k_cot --config_json ../config_files/test.raw.json\n",
    "# !python html2json.py --result_folder ../cache/919_gpt35_16k_cot_na --config_json ../config_files/test.raw.json\n",
    "# !python html2json.py --result_folder ../cache/919_gpt35_16k_direct --config_json ../config_files/test.raw.json\n",
    "# !python html2json.py --result_folder ../cache/919_gpt35_16k_direct_na --config_json ../config_files/test.raw.json\n",
    "# !python html2json.py --result_folder ../cache/919_gpt4_8k_cot --config_json ../config_files/test.raw.json"
   ]
  },
  {
   "cell_type": "markdown",
   "metadata": {},
   "source": [
    "Next you will record the json file names in `RESULT_JSONS` and provide the model tag in `RESULT_NAMES`"
   ]
  },
  {
   "cell_type": "code",
   "execution_count": 104,
   "metadata": {},
   "outputs": [],
   "source": [
    "RESULT_JSONS = [\n",
    "    # \"../cache/918_text_bison_001_cot/json_dump.json\", \n",
    "    # \"../cache/919_gpt35_16k_cot/json_dump.json\",\n",
    "    # \"../cache/919_gpt35_16k_cot_na/json_dump.json\",\n",
    "    # \"../cache/919_gpt35_16k_direct/json_dump.json\",\n",
    "    # \"../cache/919_gpt35_16k_direct_na/json_dump.json\",\n",
    "    \"/Users/guozhitong/webarena/cache/91206_gpt35_16k_cot_na_deberta/json_dump.json\",\n",
    "    ]\n",
    "RESULT_NAMES = [\"gpt3.5-deberta-cot\"]"
   ]
  },
  {
   "cell_type": "markdown",
   "metadata": {},
   "source": [
    "## Obtaining Data\n",
    "\n",
    "We can use the first results file to create the base `dataset` we'll upload to Zeno with just the initial prompt intent."
   ]
  },
  {
   "cell_type": "code",
   "execution_count": 105,
   "metadata": {},
   "outputs": [],
   "source": [
    "with open(RESULT_JSONS[0], \"r\") as f:\n",
    "    raw_json: dict = json.load(f)"
   ]
  },
  {
   "cell_type": "code",
   "execution_count": 106,
   "metadata": {},
   "outputs": [],
   "source": [
    "df = pd.DataFrame(\n",
    "    {\n",
    "        \"example_id\": list(raw_json.keys()),\n",
    "        \"site\": [\", \".join(x[\"sites\"]) for x in raw_json.values()],\n",
    "        \"eval_type\": [\", \".join(x[\"eval_types\"]) for x in raw_json.values()],\n",
    "        \"achievable\": [x[\"achievable\"] for x in raw_json.values()],\n",
    "        \"context\": [\n",
    "            json.dumps(\n",
    "                [\n",
    "                    {\n",
    "                        \"role\": \"system\",\n",
    "                        \"content\": row[\"intent\"],\n",
    "                    }\n",
    "                ]\n",
    "            )\n",
    "            for row in raw_json.values()\n",
    "        ],\n",
    "    }\n",
    ")"
   ]
  },
  {
   "cell_type": "markdown",
   "metadata": {},
   "source": [
    "## Authenticate and Create a Project\n",
    "\n",
    "We can now create a new [Zeno](https://zenoml.com) project and upload this data.\n",
    "\n",
    "Create an account and API key by signing up at [Zeno Hub](https://hub.zenoml.com) and going to your [Account page](http://hub.zenoml.com/account). Save the API key in a `.env` file."
   ]
  },
  {
   "cell_type": "code",
   "execution_count": 107,
   "metadata": {},
   "outputs": [],
   "source": [
    "# read ZENO_API_KEY from .env file\n",
    "load_dotenv(override=True)\n",
    "\n",
    "client = zeno_client.ZenoClient(os.environ.get(\"ZENO_API_KEY\"))"
   ]
  },
  {
   "cell_type": "code",
   "execution_count": 108,
   "metadata": {},
   "outputs": [
    {
     "name": "stdout",
     "output_type": "stream",
     "text": [
      "Successfully updated project.\n",
      "Access your project at  https://hub.zenoml.com/project/zhitongguo/Webarena%20with%20DeBERTa%20%28GPT3.5%29\n"
     ]
    }
   ],
   "source": [
    "project = client.create_project(\n",
    "    name=\"Webarena with DeBERTa (GPT3.5)\",\n",
    "    view={\n",
    "        \"data\": {\n",
    "            \"type\": \"list\",\n",
    "            \"elements\": {\"type\": \"message\", \"content\": {\"type\": \"markdown\"}},\n",
    "            \"collapsible\": \"top\",\n",
    "        },\n",
    "        \"label\": {\"type\": \"markdown\"},\n",
    "        \"output\": {\n",
    "            \"type\": \"list\",\n",
    "            \"elements\": {\n",
    "                \"type\": \"message\",\n",
    "                \"highlight\": True,\n",
    "                \"content\": {\"type\": \"markdown\"},\n",
    "            },\n",
    "            \"collapsible\": \"top\",\n",
    "        },\n",
    "    },\n",
    "    metrics=[\n",
    "        zeno_client.ZenoMetric(name=\"success\", type=\"mean\", columns=[\"success\"]),\n",
    "        zeno_client.ZenoMetric(\n",
    "            name=\"# of go backs\", type=\"mean\", columns=[\"# of go_backs\"]\n",
    "        ),\n",
    "        zeno_client.ZenoMetric(name=\"# of steps\", type=\"mean\", columns=[\"# of steps\"]),\n",
    "    ],\n",
    ")"
   ]
  },
  {
   "cell_type": "code",
   "execution_count": 109,
   "metadata": {},
   "outputs": [],
   "source": [
    "result_file_3 = \"/Users/guozhitong/webarena/cache/91206_gpt35_16k_cot_na_deberta/json_dump.json\""
   ]
  },
  {
   "cell_type": "code",
   "execution_count": 110,
   "metadata": {},
   "outputs": [],
   "source": [
    "with open(result_file_3, \"r\") as f:\n",
    "    all_data_3: dict = json.load(f)"
   ]
  },
  {
   "cell_type": "code",
   "execution_count": 111,
   "metadata": {},
   "outputs": [],
   "source": [
    "df = pd.DataFrame(\n",
    "    {\n",
    "        \"example_id\": list(all_data_3.keys()),\n",
    "        \"site\": [\", \".join(x[\"sites\"]) for x in all_data_3.values()],\n",
    "        \"eval_type\": [\", \".join(x[\"eval_types\"]) for x in all_data_3.values()],\n",
    "        \"achievable\": [x[\"achievable\"] for x in all_data_3.values()],\n",
    "        \"context\": [\n",
    "            json.dumps(\n",
    "                [\n",
    "                    {\n",
    "                        \"role\": \"system\",\n",
    "                        \"content\": row[\"intent\"],\n",
    "                    }\n",
    "                ]\n",
    "            )\n",
    "            for row in all_data_3.values()\n",
    "        ],\n",
    "    }\n",
    ")"
   ]
  },
  {
   "cell_type": "code",
   "execution_count": 112,
   "metadata": {},
   "outputs": [
    {
     "data": {
      "application/vnd.jupyter.widget-view+json": {
       "model_id": "fbf2a101aab64f5c88fe184ea2446bdb",
       "version_major": 2,
       "version_minor": 0
      },
      "text/plain": [
       "  0%|          | 0/1 [00:00<?, ?it/s]"
      ]
     },
     "metadata": {},
     "output_type": "display_data"
    },
    {
     "name": "stdout",
     "output_type": "stream",
     "text": [
      "Successfully uploaded data\n"
     ]
    }
   ],
   "source": [
    "project.upload_dataset(df, id_column=\"example_id\", data_column=\"context\")"
   ]
  },
  {
   "cell_type": "markdown",
   "metadata": {},
   "source": [
    "# Uploading Model Outputs\n",
    "\n",
    "We can now upload the full trajectory outputs for our models.\n",
    "\n",
    "If you want to display the images, you will need to upload the images to a publically accessible location and provide the URL in the `image_url` field."
   ]
  },
  {
   "cell_type": "code",
   "execution_count": 113,
   "metadata": {},
   "outputs": [],
   "source": [
    "image_base_url = None"
   ]
  },
  {
   "cell_type": "code",
   "execution_count": 114,
   "metadata": {},
   "outputs": [],
   "source": [
    "def format_message(row):\n",
    "    return_list = []\n",
    "    for message in row[\"messages\"]:\n",
    "        role = \"user\" if \"user\" in message else \"assistant\"\n",
    "\n",
    "        if role == \"user\":\n",
    "            if image_base_url:\n",
    "                content = (\n",
    "                    \"[![image](%s/%s)](%s/%s)\\n%s\"\n",
    "                    % (\n",
    "                        image_base_url,\n",
    "                        \"/\".join(message[\"image\"].split(\"/\")[-2:]),\n",
    "                        image_base_url,\n",
    "                        \"/\".join(message[\"image\"].split(\"/\")[-2:]),\n",
    "                        message[role],\n",
    "                    )\n",
    "                )\n",
    "            else:\n",
    "                content = message[role]\n",
    "        else:\n",
    "            content = message[role]\n",
    "        return_list.append({\"role\": role, \"content\": content})\n",
    "    return return_list"
   ]
  },
  {
   "cell_type": "code",
   "execution_count": 115,
   "metadata": {},
   "outputs": [],
   "source": [
    "def get_system_df(result_path: str):\n",
    "    with open(result_path, \"r\") as f:\n",
    "        json_input: dict = json.load(f)\n",
    "    return pd.DataFrame(\n",
    "        {\n",
    "            \"example_id\": list(json_input.keys()),\n",
    "            \"# of clicks\": [\n",
    "                sum(\n",
    "                    [\n",
    "                        1\n",
    "                        for x in r[\"messages\"]\n",
    "                        if \"assistant\" in x and \"`click\" in x[\"assistant\"]\n",
    "                    ]\n",
    "                )\n",
    "                for r in json_input.values()\n",
    "            ],\n",
    "            \"# of types\": [\n",
    "                sum(\n",
    "                    [\n",
    "                        1\n",
    "                        for x in r[\"messages\"]\n",
    "                        if \"assistant\" in x and \"`type\" in x[\"assistant\"]\n",
    "                    ]\n",
    "                )\n",
    "                for r in json_input.values()\n",
    "            ],\n",
    "            \"# of go_backs\": [\n",
    "                sum(\n",
    "                    [\n",
    "                        1\n",
    "                        for x in r[\"messages\"]\n",
    "                        if \"assistant\" in x and \"`go_back\" in x[\"assistant\"]\n",
    "                    ]\n",
    "                )\n",
    "                for r in json_input.values()\n",
    "            ],\n",
    "            \"# of steps\": [len(r[\"messages\"]) for r in json_input.values()],\n",
    "            \"context\": [json.dumps(format_message(row)) for row in json_input.values()],\n",
    "            \"success\": [r[\"success\"] for r in json_input.values()],\n",
    "        }\n",
    "    )"
   ]
  },
  {
   "cell_type": "code",
   "execution_count": 116,
   "metadata": {},
   "outputs": [
    {
     "data": {
      "application/vnd.jupyter.widget-view+json": {
       "model_id": "bf636b6ff60f4d3c8d36cfcbd58f8d8b",
       "version_major": 2,
       "version_minor": 0
      },
      "text/plain": [
       "  0%|          | 0/6 [00:00<?, ?it/s]"
      ]
     },
     "metadata": {},
     "output_type": "display_data"
    },
    {
     "name": "stdout",
     "output_type": "stream",
     "text": [
      "Successfully uploaded system\n"
     ]
    }
   ],
   "source": [
    "for i, system in enumerate(RESULT_JSONS):\n",
    "    output_df = get_system_df(system)\n",
    "    project.upload_system(\n",
    "        output_df, name=RESULT_NAMES[i], id_column=\"example_id\", output_column=\"context\"\n",
    "    ) "
   ]
  },
  {
   "cell_type": "code",
   "execution_count": null,
   "metadata": {},
   "outputs": [],
   "source": []
  },
  {
   "cell_type": "code",
   "execution_count": null,
   "metadata": {},
   "outputs": [],
   "source": []
  }
 ],
 "metadata": {
  "kernelspec": {
   "display_name": "zeno-build",
   "language": "python",
   "name": "python3"
  },
  "language_info": {
   "codemirror_mode": {
    "name": "ipython",
    "version": 3
   },
   "file_extension": ".py",
   "mimetype": "text/x-python",
   "name": "python",
   "nbconvert_exporter": "python",
   "pygments_lexer": "ipython3",
   "version": "3.11.5"
  }
 },
 "nbformat": 4,
 "nbformat_minor": 2
}
