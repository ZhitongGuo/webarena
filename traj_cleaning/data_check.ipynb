{
 "cells": [
  {
   "cell_type": "code",
   "execution_count": 1,
   "metadata": {},
   "outputs": [],
   "source": [
    "import pandas as pd"
   ]
  },
  {
   "cell_type": "code",
   "execution_count": 4,
   "metadata": {},
   "outputs": [
    {
     "name": "stdout",
     "output_type": "stream",
     "text": [
      "(812, 13) (812, 13)\n"
     ]
    }
   ],
   "source": [
    "testdf = pd.read_json('config_files/test.json')\n",
    "testrawdf = pd.read_json('config_files/test.raw.json')\n",
    "print(testdf.shape, testrawdf.shape)"
   ]
  },
  {
   "cell_type": "code",
   "execution_count": 104,
   "metadata": {},
   "outputs": [
    {
     "data": {
      "text/plain": [
       "Index(['sites', 'task_id', 'require_login', 'storage_state', 'start_url',\n",
       "       'geolocation', 'intent_template', 'instantiation_dict', 'intent',\n",
       "       'require_reset', 'eval', 'intent_template_id', 'string_note'],\n",
       "      dtype='object')"
      ]
     },
     "execution_count": 104,
     "metadata": {},
     "output_type": "execute_result"
    }
   ],
   "source": [
    "testdf.columns"
   ]
  },
  {
   "cell_type": "code",
   "execution_count": 7,
   "metadata": {},
   "outputs": [],
   "source": [
    "testdf.to_csv('test.csv', index=False)"
   ]
  },
  {
   "cell_type": "code",
   "execution_count": 109,
   "metadata": {},
   "outputs": [
    {
     "data": {
      "text/plain": [
       "intent_template_id\n",
       "332    10\n",
       "279     7\n",
       "366     7\n",
       "371     7\n",
       "352     6\n",
       "       ..\n",
       "161     1\n",
       "782     1\n",
       "781     1\n",
       "120     1\n",
       "151     1\n",
       "Name: count, Length: 190, dtype: int64"
      ]
     },
     "execution_count": 109,
     "metadata": {},
     "output_type": "execute_result"
    }
   ],
   "source": [
    "testdf.intent_template_id.value_counts()"
   ]
  },
  {
   "cell_type": "code",
   "execution_count": 108,
   "metadata": {},
   "outputs": [],
   "source": [
    "testdf.to_csv(\"examinetestdf.csv\")"
   ]
  },
  {
   "cell_type": "code",
   "execution_count": 38,
   "metadata": {},
   "outputs": [],
   "source": [
    "testdf['sites'] = testdf['sites'].astype(str)"
   ]
  },
  {
   "cell_type": "code",
   "execution_count": 43,
   "metadata": {},
   "outputs": [],
   "source": [
    "gitlab_list = list(testdf[testdf['sites'] == \"['gitlab']\"].index)"
   ]
  },
  {
   "cell_type": "code",
   "execution_count": 8,
   "metadata": {},
   "outputs": [],
   "source": [
    "failed = [658, 176, 475, 567, 422, 662, 398, 727, 418, 480, 746, 316, 479, 750, 357, 394, 414, 156, 415, 395, 751, 478, 182, 747, 317, 481, 419, 730, 663, 566, 136, 177, 570, 659, 756, 668, 392, 412, 557, 445, 296, 577, 259, 170, 561, 664, 449, 448, 389, 736, 665, 560, 537, 171, 258, 576, 297, 444, 413, 106, 556, 669, 393, 405, 452, 350, 311, 294, 447, 105, 555, 410, 685, 390, 406, 451, 754, 168, 742, 312, 484, 579, 559, 670, 563, 133, 308, 522, 172, 349, 173, 309, 562, 132, 558, 578, 485, 743, 169, 755, 450, 391, 104, 554, 411, 446, 295, 334, 660, 420, 565, 135, 477, 174, 318, 748, 441, 103, 553, 416, 729, 396, 569, 752, 181, 744, 314, 178, 482, 179, 483, 44, 745, 315, 180, 753, 568, 397, 102, 552, 417, 293, 749, 175, 476, 564, 134, 661]"
   ]
  },
  {
   "cell_type": "code",
   "execution_count": 9,
   "metadata": {},
   "outputs": [
    {
     "data": {
      "text/plain": [
       "[44,\n",
       " 102,\n",
       " 103,\n",
       " 104,\n",
       " 105,\n",
       " 106,\n",
       " 132,\n",
       " 133,\n",
       " 134,\n",
       " 135,\n",
       " 136,\n",
       " 156,\n",
       " 168,\n",
       " 169,\n",
       " 170,\n",
       " 171,\n",
       " 172,\n",
       " 173,\n",
       " 174,\n",
       " 175,\n",
       " 176,\n",
       " 177,\n",
       " 178,\n",
       " 179,\n",
       " 180,\n",
       " 181,\n",
       " 182,\n",
       " 258,\n",
       " 259,\n",
       " 293,\n",
       " 294,\n",
       " 295,\n",
       " 296,\n",
       " 297,\n",
       " 308,\n",
       " 309,\n",
       " 311,\n",
       " 312,\n",
       " 314,\n",
       " 315,\n",
       " 316,\n",
       " 317,\n",
       " 318,\n",
       " 334,\n",
       " 349,\n",
       " 350,\n",
       " 357,\n",
       " 389,\n",
       " 390,\n",
       " 391,\n",
       " 392,\n",
       " 393,\n",
       " 394,\n",
       " 395,\n",
       " 396,\n",
       " 397,\n",
       " 398,\n",
       " 405,\n",
       " 406,\n",
       " 410,\n",
       " 411,\n",
       " 412,\n",
       " 413,\n",
       " 414,\n",
       " 415,\n",
       " 416,\n",
       " 417,\n",
       " 418,\n",
       " 419,\n",
       " 420,\n",
       " 422,\n",
       " 441,\n",
       " 444,\n",
       " 445,\n",
       " 446,\n",
       " 447,\n",
       " 448,\n",
       " 449,\n",
       " 450,\n",
       " 451,\n",
       " 452,\n",
       " 475,\n",
       " 476,\n",
       " 477,\n",
       " 478,\n",
       " 479,\n",
       " 480,\n",
       " 481,\n",
       " 482,\n",
       " 483,\n",
       " 484,\n",
       " 485,\n",
       " 522,\n",
       " 537,\n",
       " 552,\n",
       " 553,\n",
       " 554,\n",
       " 555,\n",
       " 556,\n",
       " 557,\n",
       " 558,\n",
       " 559,\n",
       " 560,\n",
       " 561,\n",
       " 562,\n",
       " 563,\n",
       " 564,\n",
       " 565,\n",
       " 566,\n",
       " 567,\n",
       " 568,\n",
       " 569,\n",
       " 570,\n",
       " 576,\n",
       " 577,\n",
       " 578,\n",
       " 579,\n",
       " 658,\n",
       " 659,\n",
       " 660,\n",
       " 661,\n",
       " 662,\n",
       " 663,\n",
       " 664,\n",
       " 665,\n",
       " 668,\n",
       " 669,\n",
       " 670,\n",
       " 685,\n",
       " 727,\n",
       " 729,\n",
       " 730,\n",
       " 736,\n",
       " 742,\n",
       " 743,\n",
       " 744,\n",
       " 745,\n",
       " 746,\n",
       " 747,\n",
       " 748,\n",
       " 749,\n",
       " 750,\n",
       " 751,\n",
       " 752,\n",
       " 753,\n",
       " 754,\n",
       " 755,\n",
       " 756]"
      ]
     },
     "execution_count": 9,
     "metadata": {},
     "output_type": "execute_result"
    }
   ],
   "source": [
    "failed.sort()\n",
    "failed"
   ]
  },
  {
   "cell_type": "code",
   "execution_count": 45,
   "metadata": {},
   "outputs": [
    {
     "name": "stdout",
     "output_type": "stream",
     "text": [
      "[44, 45, 46, 102, 103, 104, 105, 106, 132, 133, 134, 135, 136, 156, 168, 169, 170, 171, 172, 173, 174, 175, 176, 177, 178, 179, 180, 181, 182, 205, 206, 207, 258, 259, 293, 294, 295, 296, 297, 303, 304, 305, 306, 307, 308, 309, 310, 311, 312, 314, 315, 316, 317, 318, 339, 340, 341, 342, 343, 349, 350, 357, 389, 390, 391, 392, 393, 394, 395, 396, 397, 398, 411, 412, 413, 414, 415, 416, 417, 418, 419, 420, 421, 422, 441, 442, 443, 444, 445, 446, 447, 448, 449, 450, 451, 452, 475, 476, 477, 478, 479, 480, 481, 482, 483, 484, 485, 522, 523, 524, 525, 526, 527, 533, 534, 535, 536, 537, 567, 568, 569, 570, 576, 577, 578, 579, 590, 591, 592, 593, 594, 658, 659, 660, 661, 662, 663, 664, 665, 666, 667, 668, 669, 670, 736, 742, 743, 744, 745, 746, 747, 748, 749, 750, 751, 752, 753, 754, 755, 756, 783, 784, 785, 786, 787, 788, 789, 799, 800, 801, 802, 803, 804, 805, 806, 807, 808, 809, 810, 811]\n"
     ]
    }
   ],
   "source": [
    "print(gitlab_list,)"
   ]
  },
  {
   "cell_type": "code",
   "execution_count": null,
   "metadata": {},
   "outputs": [],
   "source": [
    "41, 456\n",
    "80, 121, 127, 197, 270, 331, 400, 417, 427, 439, 501, 577, 529, 607, 621, 662, 694"
   ]
  },
  {
   "cell_type": "code",
   "execution_count": 1,
   "metadata": {},
   "outputs": [],
   "source": [
    "import re\n",
    "import pandas as pd\n",
    "\n",
    "\n",
    "def extract_result(log_file_name):\n",
    "    results = []\n",
    "    test_indices = []\n",
    "    # Define a regular expression pattern to match the lines with results\n",
    "    test_index_pattern = r'\\[Config file\\]: config_files/(\\d+).json'\n",
    "\n",
    "    result_pattern = re.compile(r'\\[Result\\] \\((\\w+)\\) config_files/(\\d+)\\.json')\n",
    "\n",
    "    # Define a regular expression pattern to match lines with OpenAI Errors and Unhandled Errors\n",
    "    error_pattern = re.compile(r'\\d{4}-\\d{2}-\\d{2} \\d{2}:\\d{2}:\\d{2},\\d+ - INFO - \\[.*Error\\] (.+)')\n",
    "\n",
    "    with open(log_file_name, 'r') as log_file:\n",
    "        lines = log_file.readlines()\n",
    "\n",
    "    current_test_index = None\n",
    "\n",
    "    for line in lines:\n",
    "        test_index_match = re.search(test_index_pattern, line)\n",
    "        if test_index_match:\n",
    "            current_test_index = int(test_index_match.group(1))\n",
    "            continue\n",
    "\n",
    "        result_match = result_pattern.search(line)\n",
    "        if result_match:\n",
    "            result = result_match.group(1)\n",
    "            results.append(result)\n",
    "            test_indices.append(current_test_index)\n",
    "        else:\n",
    "            error_match = error_pattern.search(line)\n",
    "            if error_match:\n",
    "                error_message = error_match.group(1)\n",
    "                results.append(f'Error: {error_message}')\n",
    "                test_indices.append(current_test_index)\n",
    "                \n",
    "    df = pd.DataFrame({'task_id': test_indices, 'result': results})\n",
    "    return df\n",
    "\n",
    "\n",
    "def read_logfiles(logpaths):\n",
    "    with open(logpaths, 'r') as log_paths:\n",
    "        lines = log_paths.readlines()\n",
    "    df_lists = []\n",
    "\n",
    "    for logfile in lines:\n",
    "        temp = extract_result(logfile.strip(\"\\n\"))\n",
    "        df_lists.append(temp)\n",
    "    \n",
    "    df_sum = pd.concat(df_lists, ignore_index=True, axis = 0)\n",
    "    \n",
    "    merged_df = pd.merge(testdf, df_sum, on='task_id', how='inner')\n",
    "\n",
    "    return df_sum, merged_df\n",
    "\n"
   ]
  },
  {
   "cell_type": "code",
   "execution_count": 5,
   "metadata": {},
   "outputs": [
    {
     "name": "stdout",
     "output_type": "stream",
     "text": [
      "/Users/guozhitong/webarena\n"
     ]
    }
   ],
   "source": [
    "%cd /Users/guozhitong/webarena/\n",
    "deberta_results, deberta_meta = read_logfiles(\"/Users/guozhitong/webarena/cache/91206_gpt35_16k_cot_na_deberta/log_files.txt\") "
   ]
  },
  {
   "cell_type": "code",
   "execution_count": 6,
   "metadata": {},
   "outputs": [
    {
     "data": {
      "text/plain": [
       "result\n",
       "FAIL                                                                                                                                                                                                                                                                                                                                                                                                                                                                                                                                                                                                                                                                                                                                                                                                                                                                                                                                                                                                                                                                                                                                                                                                                                                                                                                                                                                                                                                                                                                                                                                            102\n",
       "Error: TypeError('expected string or buffer')]                                                                                                                                                                                                                                                                                                                                                                                                                                                                                                                                                                                                                                                                                                                                                                                                                                                                                                                                                                                                                                                                                                                                                                                                                                                                                                                                                                                                                                                                                                                                                   34\n",
       "Error: LookupError(\"\\n**********************************************************************\\n  Resource \\x1b[93mpunkt\\x1b[0m not found.\\n  Please use the NLTK Downloader to obtain the resource:\\n\\n  \\x1b[31m>>> import nltk\\n  >>> nltk.download('punkt')\\n  \\x1b[0m\\n  For more information see: https://www.nltk.org/data.html\\n\\n  Attempted to load \\x1b[93mtokenizers/punkt/PY3/english.pickle\\x1b[0m\\n\\n  Searched in:\\n    - '/Users/guozhitong/nltk_data'\\n    - '/opt/anaconda3/envs/webarena/nltk_data'\\n    - '/opt/anaconda3/envs/webarena/share/nltk_data'\\n    - '/opt/anaconda3/envs/webarena/lib/nltk_data'\\n    - '/usr/share/nltk_data'\\n    - '/usr/local/share/nltk_data'\\n    - '/usr/lib/nltk_data'\\n    - '/usr/local/lib/nltk_data'\\n    - ''\\n**********************************************************************\\n\")]                                                                                                                                                                                                                                                                                                                                                                                                                                                                                                                                                                                                                                                                                                                                           24\n",
       "PASS                                                                                                                                                                                                                                                                                                                                                                                                                                                                                                                                                                                                                                                                                                                                                                                                                                                                                                                                                                                                                                                                                                                                                                                                                                                                                                                                                                                                                                                                                                                                                                                             10\n",
       "Error: Timeout(message=\"Request timed out: HTTPSConnectionPool(host='api.openai.com', port=443): Read timed out. (read timeout=600)\", http_status=None, request_id=None)                                                                                                                                                                                                                                                                                                                                                                                                                                                                                                                                                                                                                                                                                                                                                                                                                                                                                                                                                                                                                                                                                                                                                                                                                                                                                                                                                                                                                          8\n",
       "Error: AttributeError(\"'Page' object has no attribute 'client'\")]                                                                                                                                                                                                                                                                                                                                                                                                                                                                                                                                                                                                                                                                                                                                                                                                                                                                                                                                                                                                                                                                                                                                                                                                                                                                                                                                                                                                                                                                                                                                 3\n",
       "Error: APIConnectionError(message=\"Error communicating with OpenAI: ('Connection aborted.', RemoteDisconnected('Remote end closed connection without response'))\", http_status=None, request_id=None)                                                                                                                                                                                                                                                                                                                                                                                                                                                                                                                                                                                                                                                                                                                                                                                                                                                                                                                                                                                                                                                                                                                                                                                                                                                                                                                                                                                             1\n",
       "Error: Error('net::ERR_ABORTED at chrome-error://chromewebdata/\\n=========================== logs ===========================\\nnavigating to \"chrome-error://chromewebdata/\", waiting until \"load\"\\n============================================================')]                                                                                                                                                                                                                                                                                                                                                                                                                                                                                                                                                                                                                                                                                                                                                                                                                                                                                                                                                                                                                                                                                                                                                                                                                                                                                                                               1\n",
       "Error: APIError(message='The server had an error while processing your request. Sorry about that! {\\n  \"error\": {\\n    \"message\": \"The server had an error while processing your request. Sorry about that!\",\\n    \"type\": \"server_error\",\\n    \"param\": null,\\n    \"code\": null\\n  }\\n}\\n 500 {\\'error\\': {\\'message\\': \\'The server had an error while processing your request. Sorry about that!\\', \\'type\\': \\'server_error\\', \\'param\\': None, \\'code\\': None}} {\\'Date\\': \\'Thu, 14 Dec 2023 01:50:57 GMT\\', \\'Content-Type\\': \\'application/json\\', \\'Content-Length\\': \\'176\\', \\'Connection\\': \\'keep-alive\\', \\'access-control-allow-origin\\': \\'*\\', \\'openai-model\\': \\'gpt-3.5-turbo-0613\\', \\'openai-organization\\': \\'new-york-university-74\\', \\'openai-processing-ms\\': \\'5824\\', \\'openai-version\\': \\'2020-10-01\\', \\'strict-transport-security\\': \\'max-age=15724800; includeSubDomains\\', \\'x-ratelimit-limit-requests\\': \\'10000\\', \\'x-ratelimit-limit-tokens\\': \\'60000\\', \\'x-ratelimit-limit-tokens_usage_based\\': \\'60000\\', \\'x-ratelimit-remaining-requests\\': \\'9999\\', \\'x-ratelimit-remaining-tokens\\': \\'58167\\', \\'x-ratelimit-remaining-tokens_usage_based\\': \\'58167\\', \\'x-ratelimit-reset-requests\\': \\'8.64s\\', \\'x-ratelimit-reset-tokens\\': \\'1.833s\\', \\'x-ratelimit-reset-tokens_usage_based\\': \\'1.833s\\', \\'x-request-id\\': \\'36fc0c87ba51e35b9d38696be4f61101\\', \\'CF-Cache-Status\\': \\'DYNAMIC\\', \\'Server\\': \\'cloudflare\\', \\'CF-RAY\\': \\'8352cc66ac7c5968-IAD\\', \\'alt-svc\\': \\'h3=\":443\"; ma=86400\\'}', http_status=500, request_id=None)      1\n",
       "Error: ServiceUnavailableError(message='The server is overloaded or not ready yet.', http_status=503, request_id=None)                                                                                                                                                                                                                                                                                                                                                                                                                                                                                                                                                                                                                                                                                                                                                                                                                                                                                                                                                                                                                                                                                                                                                                                                                                                                                                                                                                                                                                                                            1\n",
       "Name: count, dtype: int64"
      ]
     },
     "execution_count": 6,
     "metadata": {},
     "output_type": "execute_result"
    }
   ],
   "source": [
    "deberta_results.result.value_counts()"
   ]
  },
  {
   "cell_type": "code",
   "execution_count": 41,
   "metadata": {},
   "outputs": [],
   "source": [
    "baseline_results, baseline_meta = read_logfiles(\"/Users/guozhitong/webarena/results/log_files.txt\") "
   ]
  },
  {
   "cell_type": "code",
   "execution_count": 57,
   "metadata": {},
   "outputs": [],
   "source": [
    "err_analysis, err_analysis_meta = read_logfiles(\"/Users/guozhitong/webarena/error_analysis/log_files.txt\") "
   ]
  },
  {
   "cell_type": "code",
   "execution_count": 58,
   "metadata": {},
   "outputs": [
    {
     "data": {
      "text/html": [
       "<div>\n",
       "<style scoped>\n",
       "    .dataframe tbody tr th:only-of-type {\n",
       "        vertical-align: middle;\n",
       "    }\n",
       "\n",
       "    .dataframe tbody tr th {\n",
       "        vertical-align: top;\n",
       "    }\n",
       "\n",
       "    .dataframe thead th {\n",
       "        text-align: right;\n",
       "    }\n",
       "</style>\n",
       "<table border=\"1\" class=\"dataframe\">\n",
       "  <thead>\n",
       "    <tr style=\"text-align: right;\">\n",
       "      <th></th>\n",
       "      <th>result</th>\n",
       "    </tr>\n",
       "    <tr>\n",
       "      <th>task_id</th>\n",
       "      <th></th>\n",
       "    </tr>\n",
       "  </thead>\n",
       "  <tbody>\n",
       "    <tr>\n",
       "      <th>0</th>\n",
       "      <td>PASS</td>\n",
       "    </tr>\n",
       "    <tr>\n",
       "      <th>1</th>\n",
       "      <td>FAIL</td>\n",
       "    </tr>\n",
       "    <tr>\n",
       "      <th>2</th>\n",
       "      <td>FAIL</td>\n",
       "    </tr>\n",
       "    <tr>\n",
       "      <th>3</th>\n",
       "      <td>FAIL</td>\n",
       "    </tr>\n",
       "    <tr>\n",
       "      <th>4</th>\n",
       "      <td>FAIL</td>\n",
       "    </tr>\n",
       "    <tr>\n",
       "      <th>...</th>\n",
       "      <td>...</td>\n",
       "    </tr>\n",
       "    <tr>\n",
       "      <th>807</th>\n",
       "      <td>FAIL</td>\n",
       "    </tr>\n",
       "    <tr>\n",
       "      <th>808</th>\n",
       "      <td>FAIL</td>\n",
       "    </tr>\n",
       "    <tr>\n",
       "      <th>809</th>\n",
       "      <td>FAIL</td>\n",
       "    </tr>\n",
       "    <tr>\n",
       "      <th>810</th>\n",
       "      <td>FAIL</td>\n",
       "    </tr>\n",
       "    <tr>\n",
       "      <th>811</th>\n",
       "      <td>FAIL</td>\n",
       "    </tr>\n",
       "  </tbody>\n",
       "</table>\n",
       "<p>812 rows × 1 columns</p>\n",
       "</div>"
      ],
      "text/plain": [
       "        result\n",
       "task_id       \n",
       "0         PASS\n",
       "1         FAIL\n",
       "2         FAIL\n",
       "3         FAIL\n",
       "4         FAIL\n",
       "...        ...\n",
       "807       FAIL\n",
       "808       FAIL\n",
       "809       FAIL\n",
       "810       FAIL\n",
       "811       FAIL\n",
       "\n",
       "[812 rows x 1 columns]"
      ]
     },
     "execution_count": 58,
     "metadata": {},
     "output_type": "execute_result"
    }
   ],
   "source": [
    "df1 = baseline_results.sort_index()\n",
    "df2 = err_analysis.sort_index()\n",
    "df1.set_index('task_id', inplace=True)\n",
    "df2.set_index('task_id', inplace=True)\n",
    "df2.sort_index(inplace=True)\n",
    "df1.update(df2)\n",
    "df1"
   ]
  },
  {
   "cell_type": "code",
   "execution_count": 59,
   "metadata": {},
   "outputs": [
    {
     "data": {
      "text/plain": [
       "result\n",
       "FAIL    758\n",
       "PASS     54\n",
       "Name: count, dtype: int64"
      ]
     },
     "execution_count": 59,
     "metadata": {},
     "output_type": "execute_result"
    }
   ],
   "source": [
    "df1.result.value_counts()"
   ]
  },
  {
   "cell_type": "code",
   "execution_count": 60,
   "metadata": {},
   "outputs": [
    {
     "data": {
      "text/plain": [
       "0.0665024630541872"
      ]
     },
     "execution_count": 60,
     "metadata": {},
     "output_type": "execute_result"
    }
   ],
   "source": [
    "df1.result.value_counts()['PASS']/df1.shape[0]"
   ]
  },
  {
   "cell_type": "code",
   "execution_count": 61,
   "metadata": {},
   "outputs": [],
   "source": [
    "baseline_meta = pd.merge(testdf, df1, on='task_id', how='inner')\n",
    "baseline_meta.to_csv(\"baseline_metadata.csv\")"
   ]
  },
  {
   "cell_type": "code",
   "execution_count": 62,
   "metadata": {},
   "outputs": [
    {
     "data": {
      "text/plain": [
       "result\n",
       "FAIL    86\n",
       "PASS    10\n",
       "Name: count, dtype: int64"
      ]
     },
     "execution_count": 62,
     "metadata": {},
     "output_type": "execute_result"
    }
   ],
   "source": [
    "err_analysis.result.value_counts()"
   ]
  },
  {
   "cell_type": "code",
   "execution_count": 65,
   "metadata": {},
   "outputs": [
    {
     "data": {
      "image/png": "[encoded data removed]",
      "text/plain": [
       "<Figure size 2000x600 with 1 Axes>"
      ]
     },
     "metadata": {},
     "output_type": "display_data"
    }
   ],
   "source": [
    "import pandas as pd\n",
    "import matplotlib.pyplot as plt\n",
    "\n",
    "df = pd.read_csv(\"baseline_metadata.csv\", index_col=0)\n",
    "recall_rate = df[df['result'] == 'PASS'].groupby('sites').size() / df.groupby('sites').size()\n",
    "recall_rate = recall_rate.sort_values()\n",
    "\n",
    "plt.figure(figsize = (20,6))\n",
    "plt.bar(recall_rate.index, recall_rate.values)\n",
    "plt.xlabel('Sites')\n",
    "plt.ylabel('Recall Rate')\n",
    "plt.title('Recall Rate by Sites')\n",
    "plt.ylim(0, 0.2) \n",
    "plt.show()"
   ]
  },
  {
   "cell_type": "code",
   "execution_count": 64,
   "metadata": {},
   "outputs": [
    {
     "data": {
      "text/plain": [
       "sites\n",
       "['gitlab']                   0.033333\n",
       "['reddit']                   0.037736\n",
       "['shopping_admin']           0.049451\n",
       "['map']                      0.091743\n",
       "['shopping']                 0.133690\n",
       "['gitlab', 'reddit']              NaN\n",
       "['gitlab', 'wikipedia']           NaN\n",
       "['map', 'shopping_admin']         NaN\n",
       "['map', 'wikipedia']              NaN\n",
       "['reddit', 'gitlab']              NaN\n",
       "['shopping', 'reddit']            NaN\n",
       "['wikipedia', 'map']              NaN\n",
       "dtype: float64"
      ]
     },
     "execution_count": 64,
     "metadata": {},
     "output_type": "execute_result"
    }
   ],
   "source": [
    "recall_rate"
   ]
  },
  {
   "cell_type": "code",
   "execution_count": 23,
   "metadata": {},
   "outputs": [
    {
     "data": {
      "text/plain": [
       "sites\n",
       "['gitlab']             3\n",
       "['map']               10\n",
       "['reddit']             4\n",
       "['shopping']          25\n",
       "['shopping_admin']     9\n",
       "dtype: int64"
      ]
     },
     "execution_count": 23,
     "metadata": {},
     "output_type": "execute_result"
    }
   ],
   "source": [
    "df[df['result'] == 'PASS'].groupby('sites').size()"
   ]
  },
  {
   "cell_type": "code",
   "execution_count": 24,
   "metadata": {},
   "outputs": [
    {
     "data": {
      "text/plain": [
       "sites\n",
       "['gitlab', 'reddit']          10\n",
       "['gitlab', 'wikipedia']        6\n",
       "['gitlab']                   180\n",
       "['map', 'shopping_admin']      2\n",
       "['map', 'wikipedia']           1\n",
       "['map']                      109\n",
       "['reddit', 'gitlab']           8\n",
       "['reddit']                   106\n",
       "['shopping', 'reddit']         5\n",
       "['shopping']                 187\n",
       "['shopping_admin']           182\n",
       "['wikipedia', 'map']          16\n",
       "dtype: int64"
      ]
     },
     "execution_count": 24,
     "metadata": {},
     "output_type": "execute_result"
    }
   ],
   "source": [
    "df.groupby('sites').size()"
   ]
  },
  {
   "cell_type": "code",
   "execution_count": 29,
   "metadata": {},
   "outputs": [
    {
     "ename": "NameError",
     "evalue": "name 'df2' is not defined",
     "output_type": "error",
     "traceback": [
      "\u001b[0;31m---------------------------------------------------------------------------\u001b[0m",
      "\u001b[0;31mNameError\u001b[0m                                 Traceback (most recent call last)",
      "Cell \u001b[0;32mIn[29], line 1\u001b[0m\n\u001b[0;32m----> 1\u001b[0m df2\n",
      "\u001b[0;31mNameError\u001b[0m: name 'df2' is not defined"
     ]
    }
   ],
   "source": [
    "df2"
   ]
  },
  {
   "cell_type": "code",
   "execution_count": null,
   "metadata": {},
   "outputs": [],
   "source": [
    "df.groupby(['sites',]).size()"
   ]
  }
 ],
 "metadata": {
  "kernelspec": {
   "display_name": "Python 3",
   "language": "python",
   "name": "python3"
  },
  "language_info": {
   "codemirror_mode": {
    "name": "ipython",
    "version": 3
   },
   "file_extension": ".py",
   "mimetype": "text/x-python",
   "name": "python",
   "nbconvert_exporter": "python",
   "pygments_lexer": "ipython3",
   "version": "3.11.5"
  },
  "orig_nbformat": 4
 },
 "nbformat": 4,
 "nbformat_minor": 2
}
